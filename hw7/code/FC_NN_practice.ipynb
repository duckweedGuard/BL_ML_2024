{
 "cells": [
  {
   "cell_type": "markdown",
   "metadata": {
    "id": "-pSGPQS8Btmc"
   },
   "source": [
    "Всем привет! Сегодня вы впервые попробуете написать свою собственную нейронную сеть и попробовать ее обучить. Мы будем работать с картинками, но пока что не совсем тем способом, которым лучше всего это делать, но должно получиться неплохо.\n",
    "\n",
    "Будем работать с [датасетом](https://github.com/rois-codh/kmnist) `Kuzushiji-MNIST` (`KMNIST`). Это рукописные буквы, изображения имеют размер (28, 28, 1) и разделены на 10 классов, по ссылке можно прочитать подробнее."
   ]
  },
  {
   "cell_type": "code",
   "execution_count": null,
   "metadata": {
    "colab": {
     "base_uri": "https://localhost:8080/"
    },
    "id": "q-ZoBfXKoDAr",
    "outputId": "69869c0f-7061-4d11-ffd0-e92c3be4af04"
   },
   "outputs": [
    {
     "name": "stdout",
     "output_type": "stream",
     "text": [
      "Mounted at /content/drive\n"
     ]
    }
   ],
   "source": [
    "from google.colab import drive\n",
    "drive.mount('/content/drive')"
   ]
  },
  {
   "cell_type": "code",
   "execution_count": null,
   "metadata": {
    "id": "75HVAP_RFU7r"
   },
   "outputs": [],
   "source": [
    "import numpy as np\n",
    "import torch\n",
    "import matplotlib.pyplot as plt\n",
    "from IPython.display import clear_output"
   ]
  },
  {
   "cell_type": "markdown",
   "metadata": {
    "id": "46iQ8ixtEruP"
   },
   "source": [
    "## Загрузка данных"
   ]
  },
  {
   "cell_type": "markdown",
   "metadata": {
    "id": "R6h1jVreJlV-"
   },
   "source": [
    "Сейчас мы будем использовать встроенные данные, но в реальности приходится писать свой класс для датасета (Dataset), у которого реализовывать несколько обязательных методов (напр, `__getitem__`), но это обсудим уже потом."
   ]
  },
  {
   "cell_type": "code",
   "execution_count": null,
   "metadata": {
    "id": "s9L9Z02o_1bK"
   },
   "outputs": [],
   "source": [
    "import torchvision\n",
    "from torchvision.datasets import KMNIST\n",
    "\n",
    "\n",
    "# Превращает картинки в тензоры\n",
    "transform = torchvision.transforms.Compose(\n",
    "    [torchvision.transforms.ToTensor()])\n",
    "\n",
    "# Загрузим данные (в переменных лежат объекты типа `Dataset`)\n",
    "# В аргумент `transform` мы передаем необходимые трансформации (ToTensor)\n",
    "trainset = KMNIST(root=\"./KMNIST\", train=True, download=True, transform=transform)\n",
    "testset = KMNIST(root=\"./KMNIST\", train=False, download=True, transform=transform)\n",
    "\n",
    "clear_output()"
   ]
  },
  {
   "cell_type": "markdown",
   "metadata": {
    "id": "V83E2vDrO9CC"
   },
   "source": [
    "Определим даталоадеры, они нужны, чтобы реализовывать стохастический градиентный спуск (то есть мы не хотим считывать в оперативную память все картинки сразу, а делать это батчами)."
   ]
  },
  {
   "cell_type": "code",
   "execution_count": null,
   "metadata": {
    "id": "oqC8XO8pO8Px"
   },
   "outputs": [],
   "source": [
    "from torch.utils.data import DataLoader\n",
    "\n",
    "\n",
    "# Можно оставить таким\n",
    "batch_size = 256\n",
    "\n",
    "trainloader = DataLoader(trainset, batch_size=batch_size, shuffle=True, num_workers=2)\n",
    "testloader = DataLoader(testset, batch_size=batch_size, shuffle=False, num_workers=2)"
   ]
  },
  {
   "cell_type": "markdown",
   "metadata": {
    "id": "-Ntp5sLoPyGx"
   },
   "source": [
    "Подумайте, как может влиять на скорость обучения параметр `batch_size`, почему вы так считаете?\n",
    "\n",
    "**Ответ:** Большой размер batchsize сокращает время обучения и повышает стабильность. Увеличение размера приведет к ускорению обучения, поскольку на каждой итерации обрабатывается больше данных. Т.е. чем больше батч - тем быстрее сходимость, а когда объектов в батче мало, то модель становится уязвимее от шума в данных."
   ]
  },
  {
   "cell_type": "markdown",
   "metadata": {
    "id": "t2vmM4KaHvrs"
   },
   "source": [
    "Посмотрим на какую-нибудь картинку:"
   ]
  },
  {
   "cell_type": "code",
   "execution_count": null,
   "metadata": {
    "colab": {
     "base_uri": "https://localhost:8080/",
     "height": 430
    },
    "id": "N-b-kFCYAoOP",
    "outputId": "df62bfa2-2f6e-4f11-a3f6-410fbfc993b9"
   },
   "outputs": [
    {
     "data": {
      "image/png": "[encoded data removed]",
      "text/plain": [
       "<Figure size 640x480 with 1 Axes>"
      ]
     },
     "metadata": {},
     "output_type": "display_data"
    }
   ],
   "source": [
    "plt.imshow(trainset[0][0].view(28, 28).numpy(), cmap=\"gray\")\n",
    "plt.axis(\"off\")\n",
    "plt.title(f\"Class is {trainset[0][1]}\", fontsize=16);"
   ]
  },
  {
   "cell_type": "markdown",
   "metadata": {
    "id": "8_MSY231Hzz9"
   },
   "source": [
    "### Задание 1. Смотрим на картинки\n",
    "\n",
    "**2** балла\n",
    "\n",
    "Нарисуйте на одном графике изображения всех 10 классов:"
   ]
  },
  {
   "cell_type": "markdown",
   "metadata": {
    "id": "j0tNdHM5JS6l"
   },
   "source": [
    "⣿⣿⣿⣿⣿⣿⠿⢋⣥⣴⣶⣶⣶⣬⣙⠻⠟⣋⣭⣭⣭⣭⡙⠻⣿⣿⣿⣿⣿\n",
    "⣿⣿⣿⣿⡿⢋⣴⣿⣿⠿⢟⣛⣛⣛⠿⢷⡹⣿⣿⣿⣿⣿⣿⣆⠹⣿⣿⣿⣿\n",
    "⣿⣿⣿⡿⢁⣾⣿⣿⣴⣿⣿⣿⣿⠿⠿⠷⠥⠱⣶⣶⣶⣶⡶⠮⠤⣌⡙⢿⣿\n",
    "⣿⡿⢛⡁⣾⣿⣿⣿⡿⢟⡫⢕⣪⡭⠥⢭⣭⣉⡂⣉⡒⣤⡭⡉⠩⣥⣰⠂⠹\n",
    "⡟⢠⣿⣱⣿⣿⣿⣏⣛⢲⣾⣿⠃⠄⠐⠈⣿⣿⣿⣿⣿⣿⠄⠁⠃⢸⣿⣿⡧\n",
    "⢠⣿⣿⣿⣿⣿⣿⣿⣿⣇⣊⠙⠳⠤⠤⠾⣟⠛⠍⣹⣛⣛⣢⣀⣠⣛⡯⢉⣰\n",
    "⣿⣿⣿⣿⣿⣿⣿⣿⣿⣿⣿⣿⣷⡶⠶⢒⣠⣼⣿⣿⣛⠻⠛⢛⣛⠉⣴⣿⣿\n",
    "⣿⣿⣿⣿⣿⣿⣿⡿⢛⡛⢿⣿⣿⣶⣿⣿⣿⣿⣿⣿⣿⣿⣿⣿⣿⣷⡈⢿⣿\n",
    "⣿⣿⣿⣿⣿⣿⣿⠸⣿⡻⢷⣍⣛⠻⠿⠿⣿⣿⣿⣿⣿⣿⣿⣿⣿⠿⢇⡘⣿\n",
    "⣿⣿⣿⣿⣿⣿⣿⣷⣝⠻⠶⣬⣍⣛⣛⠓⠶⠶⠶⠤⠬⠭⠤⠶⠶⠞⠛⣡⣿\n",
    "⢿⣿⣿⣿⣿⣿⣿⣿⣿⣿⣷⣶⣬⣭⣍⣙⣛⣛⣛⠛⠛⠛⠿⠿⠿⠛⣠⣿⣿\n",
    "⣦⣈⠉⢛⠻⠿⠿⢿⣿⣿⣿⣿⣿⣿⣿⣿⣿⣿⣿⡿⠿⠛⣁⣴⣾⣿⣿⣿⣿\n",
    "⣿⣿⣿⣶⣮⣭⣁⣒⣒⣒⠂⠠⠬⠭⠭⠭⢀⣀⣠⣄⡘⠿⣿⣿⣿⣿⣿⣿⣿\n",
    "⣿⣿⣿⣿⣿⣿⣿⣿⣿⣿⣿⣿⣿⣿⣿⣿⣿⣿⣿⣿⣿⣦⡈⢿⣿⣿⣿⣿⣿\n",
    "\n",
    "\n",
    "\n"
   ]
  },
  {
   "cell_type": "code",
   "execution_count": null,
   "metadata": {
    "id": "nDSueseayHhe"
   },
   "outputs": [],
   "source": [
    "imgs = []\n",
    "labels = list(np.unique(trainset.targets.numpy()))\n",
    "for img in trainset:\n",
    "    if img[1] in labels:\n",
    "        labels.remove(img[1])\n",
    "        imgs.append(img)\n",
    "    if len(labels) == 0:\n",
    "        break"
   ]
  },
  {
   "cell_type": "code",
   "execution_count": null,
   "metadata": {
    "colab": {
     "base_uri": "https://localhost:8080/",
     "height": 406
    },
    "id": "trdKykHt3j6N",
    "outputId": "fc290117-8e9f-4cf6-b31f-6a5a351fab1f"
   },
   "outputs": [
    {
     "data": {
      "image/png": "[encoded data removed]",
      "text/plain": [
       "<Figure size 1000x500 with 10 Axes>"
      ]
     },
     "metadata": {},
     "output_type": "display_data"
    }
   ],
   "source": [
    "fig, axs = plt.subplots(2, 5, figsize=(10, 5))\n",
    "axs = axs.ravel()\n",
    "\n",
    "for i in range(10):\n",
    "    img, label = imgs[i]\n",
    "    axs[i].imshow(img.view(28, 28).numpy(), cmap='gray')\n",
    "    axs[i].set_title(f'Class is {label}')\n",
    "    axs[i].axis('off')\n",
    "\n",
    "plt.subplots_adjust(hspace=0.25)\n",
    "plt.show()"
   ]
  },
  {
   "cell_type": "markdown",
   "metadata": {
    "id": "dLCfnFW-JtGx"
   },
   "source": [
    "### Задание 2. Строим свой первый MLP\n",
    "\n",
    "**4** балла\n",
    "\n",
    "MLP (multilayer perceptron) или нейронная сеть из полносвязных (линейных) слоев, это мы уже знаем.\n",
    "\n",
    "Опишите структуру сети: 3 полносвязных слоя + функции активации на ваш выбор. **Подумайте** про активацию после последнего слоя!\n",
    "\n",
    "Сеть на выходе 1 слоя должна иметь 256 признаков, на выходе из 2 128 признаков, на выходе из последнего столько, сколько у вас классов.\n",
    "\n",
    "https://pytorch.org/docs/stable/nn.html?highlight=activation#non-linear-activations-weighted-sum-nonlinearity"
   ]
  },
  {
   "cell_type": "code",
   "execution_count": null,
   "metadata": {
    "id": "dhYBvQIXJdSz"
   },
   "outputs": [],
   "source": [
    "import torch.nn as nn\n",
    "\n",
    "class FCNet(nn.Module):\n",
    "    def __init__(self):\n",
    "        super().__init__() #  это надо помнить!\n",
    "\n",
    "        # nn.Linear(in_features=, out_features=)\n",
    "        self.fc1 = nn.Linear(28*28, 256)\n",
    "        self.fc2 = nn.Linear(256, 128)\n",
    "        self.fc3 = nn.Linear(128, 10)\n",
    "\n",
    "\n",
    "    def forward(self, x):  # Forward вызывается внутри метода __call__ родительского класса\n",
    "        ## x -> тензор размерности (BATCH_SIZE, N_CHANNELS, WIDTH, HEIGHT)\n",
    "        ## надо подумать над тем, что у нас полносвязные слои принимают векторы\n",
    "\n",
    "        x = x.view(-1, 28*28) # vector\n",
    "        x = nn.functional.relu(self.fc1(x))\n",
    "        x = nn.functional.relu(self.fc2(x))\n",
    "        x = self.fc3(x)\n",
    "\n",
    "        return nn.functional.log_softmax(x, dim=1)\n",
    "\n",
    "        return logits"
   ]
  },
  {
   "cell_type": "markdown",
   "metadata": {
    "id": "uI0R77EQNKef"
   },
   "source": [
    "Сколько обучаемых параметров у вашей модели (весов и смещений)?\n",
    "\n",
    "**Ответ:**\n",
    "\n",
    "\n",
    "Сумма параметров в каждом из линейных слоев = input_features * output_features (веса) + output_features (смещения)"
   ]
  },
  {
   "cell_type": "code",
   "execution_count": null,
   "metadata": {
    "colab": {
     "base_uri": "https://localhost:8080/"
    },
    "id": "MvGiuoykrzzJ",
    "outputId": "63f02f3c-be8d-4d04-9e6b-6e911df6362f"
   },
   "outputs": [
    {
     "data": {
      "text/plain": [
       "235146"
      ]
     },
     "execution_count": 9,
     "metadata": {},
     "output_type": "execute_result"
    }
   ],
   "source": [
    "28 * 28 * 256 + 256 + 256 * 128 + 128 + 128 * 10 + 10"
   ]
  },
  {
   "cell_type": "markdown",
   "metadata": {
    "id": "iwGllji2M4lp"
   },
   "source": [
    "### Задание 3. Напишите код для обучения модели\n",
    "\n",
    "**5** баллов\n",
    "\n",
    "Можно (и нужно) подглядывать в код семинара по пайторчу. Вам нужно создать модель, определить функцию потерь и оптимизатор (начнем с `SGD`). Дальше нужно обучать модель, при помощи тренировочного `Dataloader'a` и считать лосс на тренировочном и тестовом `Dataloader'ах`."
   ]
  },
  {
   "cell_type": "markdown",
   "metadata": {
    "id": "Grv9xcybRfCX"
   },
   "source": [
    "Напишем функцию для рассчета `accuracy`:"
   ]
  },
  {
   "cell_type": "code",
   "execution_count": null,
   "metadata": {
    "id": "9D2QPFe5JdVc"
   },
   "outputs": [],
   "source": [
    "def get_accuracy(model, dataloader):\n",
    "    \"\"\"\n",
    "    model - обученная нейронная сеть\n",
    "    dataloader - даталоадер, на котором вы хотите посчитать accuracy\n",
    "    \"\"\"\n",
    "    correct = 0\n",
    "    total = 0\n",
    "    with torch.no_grad(): # Тензоры внутри этого блока будут иметь requires_grad=False\n",
    "        for images, labels in dataloader:\n",
    "            outputs = model(images)\n",
    "            _, predicted = torch.max(outputs.data, 1)\n",
    "            total += labels.size(0)\n",
    "            correct += (predicted == labels).sum().item()\n",
    "    accuracy = correct / total\n",
    "\n",
    "    return accuracy"
   ]
  },
  {
   "cell_type": "markdown",
   "metadata": {
    "id": "D3EmoWJyTBkE"
   },
   "source": [
    "#### Основной цикл обучения\n",
    "\n",
    "Этот код можно (и зачастую нужно) выносить в отдельную функцию, но пока что можете это не делать, все по желанию)"
   ]
  },
  {
   "cell_type": "code",
   "execution_count": null,
   "metadata": {
    "id": "uIZKSOdgUi3e"
   },
   "outputs": [],
   "source": [
    "# Создадим объект модели\n",
    "fc_net = FCNet()\n",
    "# Определим функцию потерь\n",
    "loss_function = nn.CrossEntropyLoss()\n",
    "# Создадим оптимизатор для нашей сети\n",
    "lr = 0.001 # скорость обучения\n",
    "optimizer = torch.optim.Adam(fc_net.parameters(), lr=3e-4)"
   ]
  },
  {
   "cell_type": "markdown",
   "metadata": {
    "id": "uKYzXFqoX_fd"
   },
   "source": [
    "Напишите цикл обучения. Для начала хватит 10 эпох. Какое значение `accuracy` на тестовой выборке удалось получить?"
   ]
  },
  {
   "cell_type": "code",
   "execution_count": null,
   "metadata": {
    "colab": {
     "base_uri": "https://localhost:8080/"
    },
    "id": "Ma2bshC6MxI6",
    "outputId": "6e9786eb-26fe-4a1a-8648-8ac3f350cd04"
   },
   "outputs": [
    {
     "name": "stdout",
     "output_type": "stream",
     "text": [
      "Epoch 1, epoch_loss = 0.921\n",
      "Epoch 2, epoch_loss = 0.444\n",
      "Epoch 3, epoch_loss = 0.349\n",
      "Epoch 4, epoch_loss = 0.290\n",
      "Epoch 5, epoch_loss = 0.247\n",
      "Epoch 6, epoch_loss = 0.212\n",
      "Epoch 7, epoch_loss = 0.186\n",
      "Epoch 8, epoch_loss = 0.162\n",
      "Epoch 9, epoch_loss = 0.144\n",
      "Epoch 10, epoch_loss = 0.126\n"
     ]
    }
   ],
   "source": [
    "n_epochs = 10\n",
    "loss_history = []\n",
    "\n",
    "for epoch in range(n_epochs):\n",
    "    epoch_loss = 0\n",
    "    for images, labels in trainloader: # batch for images\n",
    "        optimizer.zero_grad() # null grad\n",
    "        outputs = fc_net(images)\n",
    "        loss = loss_function(outputs, labels) # loss\n",
    "        loss.backward() # grad\n",
    "        optimizer.step()\n",
    "\n",
    "        epoch_loss += loss.item()\n",
    "    loss_history.append(epoch_loss/len(trainloader))\n",
    "    print(f\"Epoch {epoch+1}, epoch_loss = {loss_history[epoch]:.3f}\")"
   ]
  },
  {
   "cell_type": "code",
   "execution_count": null,
   "metadata": {
    "colab": {
     "base_uri": "https://localhost:8080/"
    },
    "id": "2cB5LRbrS3BN",
    "outputId": "0b69f3ad-7b6e-4a9a-aa7d-a1e4aa97ab53"
   },
   "outputs": [
    {
     "name": "stdout",
     "output_type": "stream",
     "text": [
      "Accuracy на тестовой выборке = 0.870\n"
     ]
    }
   ],
   "source": [
    "print(f\"Accuracy на тестовой выборке = {get_accuracy(fc_net, testloader):.3f}\")"
   ]
  },
  {
   "cell_type": "markdown",
   "metadata": {
    "id": "4HTJzBM8Yk1R"
   },
   "source": [
    "### Задание 4. Изучение влияния нормализации\n",
    "\n",
    "**3** балла\n",
    "\n",
    "Вы могли заметить, что мы забыли провести нормализацию наших данных, а для нейронных сетей это может быть очень критично.\n",
    "\n",
    "Нормализуйте данные.\n",
    "\n",
    "* Подсчитайте среднее значение и стандартное отклонение интенсивности пикселей для всех тренировочных данных\n",
    "* Нормализуйте данные с использованием этих параметров (используйте трансформацию `Normalize`)\n",
    "\n",
    "\n",
    "Оцените влияние нормировки данных."
   ]
  },
  {
   "cell_type": "code",
   "execution_count": null,
   "metadata": {
    "colab": {
     "base_uri": "https://localhost:8080/"
    },
    "id": "FHlDaYWGR6YA",
    "outputId": "ba150099-1868-4f4c-a97a-d982996ca003"
   },
   "outputs": [
    {
     "name": "stdout",
     "output_type": "stream",
     "text": [
      "mean = 0.19176195561885834, std = 0.3385268747806549\n"
     ]
    }
   ],
   "source": [
    "mean, std = 0, 0\n",
    "\n",
    "for img, _ in trainset:\n",
    "    mean += img[0].mean()\n",
    "    std += img[0].std()\n",
    "\n",
    "mean = mean / len(trainset)\n",
    "std = std / len(trainset)\n",
    "print(f'mean = {mean}, std = {std}')\n",
    "\n",
    "\n",
    "transform_with_norm = torchvision.transforms.Compose([\n",
    "                torchvision.transforms.ToTensor(),\n",
    "                torchvision.transforms.Normalize(mean, std)\n",
    "            ])\n",
    "\n",
    "trainset.transform = transform_with_norm\n",
    "testset.transform = transform_with_norm"
   ]
  },
  {
   "cell_type": "code",
   "execution_count": null,
   "metadata": {
    "id": "Qj93J3X_R6aa"
   },
   "outputs": [],
   "source": [
    "fc_net = FCNet()\n",
    "loss_function = nn.CrossEntropyLoss()\n",
    "lr = 0.001\n",
    "optimizer = torch.optim.Adam(fc_net.parameters(), lr=3e-4)"
   ]
  },
  {
   "cell_type": "code",
   "execution_count": null,
   "metadata": {
    "colab": {
     "base_uri": "https://localhost:8080/"
    },
    "id": "VWZtYBCvAoWQ",
    "outputId": "634eb348-898a-48d5-9f1c-d999e4f4ffb9"
   },
   "outputs": [
    {
     "name": "stdout",
     "output_type": "stream",
     "text": [
      "Epoch 1, epoch_loss = 0.040\n",
      "Epoch 2, epoch_loss = 0.032\n",
      "Epoch 3, epoch_loss = 0.025\n",
      "Epoch 4, epoch_loss = 0.019\n",
      "Epoch 5, epoch_loss = 0.016\n",
      "Epoch 6, epoch_loss = 0.012\n",
      "Epoch 7, epoch_loss = 0.009\n",
      "Epoch 8, epoch_loss = 0.007\n",
      "Epoch 9, epoch_loss = 0.005\n",
      "Epoch 10, epoch_loss = 0.005\n"
     ]
    }
   ],
   "source": [
    "n_epochs = 10\n",
    "loss_history = []\n",
    "\n",
    "for epoch in range(n_epochs):\n",
    "    epoch_loss = 0\n",
    "    for images, labels in trainloader: # batch for images\n",
    "        optimizer.zero_grad() # null grad\n",
    "        outputs = fc_net(images)\n",
    "        loss = loss_function(outputs, labels) # loss\n",
    "        loss.backward() # grad\n",
    "        optimizer.step()\n",
    "\n",
    "        epoch_loss += loss.item()\n",
    "    loss_history.append(epoch_loss/len(trainloader))\n",
    "    print(f\"Epoch {epoch+1}, epoch_loss = {loss_history[epoch]:.3f}\")"
   ]
  },
  {
   "cell_type": "code",
   "execution_count": null,
   "metadata": {
    "colab": {
     "base_uri": "https://localhost:8080/"
    },
    "id": "LntFIy8K_9sV",
    "outputId": "b9581dc6-5d4c-46e1-afe9-11b3e95f40b3"
   },
   "outputs": [
    {
     "name": "stdout",
     "output_type": "stream",
     "text": [
      "Accuracy на тестовой выборке = 0.905\n"
     ]
    }
   ],
   "source": [
    "print(f\"Accuracy на тестовой выборке = {get_accuracy(fc_net, testloader):.3f}\")"
   ]
  },
  {
   "cell_type": "markdown",
   "metadata": {
    "id": "RcIJvhWkcjlh"
   },
   "source": [
    "Как изменилась `accuracy` после нормализации?\n",
    "\n",
    "\n",
    "\n",
    "Нормализация увеличила `accuracy` с 0.870 до 0.905.\n"
   ]
  },
  {
   "cell_type": "markdown",
   "metadata": {
    "id": "atcfzu4acxP2"
   },
   "source": [
    "### Задание 5. Изучение влияния функции активации\n",
    "\n",
    "**3** балла\n",
    "\n",
    "Исследуйте влияние функций активации на скорость обучения и точность предсказаний модели.\n",
    "\n",
    "Используйте три функции:\n",
    "\n",
    "* [Sigmoid](https://pytorch.org/docs/stable/nn.functional.html#sigmoid)\n",
    "* [GELU](https://pytorch.org/docs/stable/nn.functional.html#gelu)\n",
    "* [Tanh](https://pytorch.org/docs/stable/generated/torch.nn.Tanh.html#torch.nn.Tanh)"
   ]
  },
  {
   "cell_type": "code",
   "execution_count": null,
   "metadata": {
    "id": "gxBXYpBBHyer"
   },
   "outputs": [],
   "source": [
    "class FCNet_activation(nn.Module):\n",
    "    def __init__(self, func_activation):\n",
    "        super().__init__() #  это надо помнить!\n",
    "\n",
    "        self.func_activation = func_activation\n",
    "        self.fc1 = nn.Linear(in_features=28*28, out_features=256)\n",
    "        self.fc2 = nn.Linear(in_features=256, out_features=128)\n",
    "        self.fc3 = nn.Linear(in_features=128, out_features=10)\n",
    "\n",
    "\n",
    "    def forward(self, x):  # Forward вызывается внутри метода __call__ родительского класса\n",
    "        ## x -> тензор размерности (BATCH_SIZE, N_CHANNELS, WIDTH, HEIGHT)\n",
    "        ## надо подумать над тем, что у нас полносвязные слои принимают векторы\n",
    "\n",
    "        x = x.view(-1, 28*28)\n",
    "        x = self.fc1(x)\n",
    "        x = self.func_activation(x)\n",
    "        x = self.fc2(x)\n",
    "        x = self.func_activation(x)\n",
    "        logits = self.fc3(x)\n",
    "\n",
    "        return logits"
   ]
  },
  {
   "cell_type": "code",
   "execution_count": null,
   "metadata": {
    "colab": {
     "base_uri": "https://localhost:8080/"
    },
    "id": "MIs4Juc4Mrfk",
    "outputId": "51af50dd-08b1-4d77-81af-7a450982f3e9"
   },
   "outputs": [
    {
     "name": "stdout",
     "output_type": "stream",
     "text": [
      "Activation function is sigmoid\n",
      "Epoch 1, epoch_loss = 1.545\n",
      "Epoch 2, epoch_loss = 0.771\n",
      "Epoch 3, epoch_loss = 0.556\n",
      "Epoch 4, epoch_loss = 0.450\n",
      "Epoch 5, epoch_loss = 0.378\n",
      "Epoch 6, epoch_loss = 0.322\n",
      "Epoch 7, epoch_loss = 0.278\n",
      "Epoch 8, epoch_loss = 0.241\n",
      "Epoch 9, epoch_loss = 0.212\n",
      "Epoch 10, epoch_loss = 0.186\n",
      "Accuracy на тестовой выборке = 0.8552\n",
      "CPU times: user 33.7 s, sys: 3.03 s, total: 36.8 s\n",
      "Wall time: 2min 31s\n"
     ]
    }
   ],
   "source": [
    "%%time\n",
    "function = nn.functional.sigmoid\n",
    "print(f'Activation function is {function.__name__}')\n",
    "\n",
    "fc_net = FCNet_activation(function)\n",
    "loss_function = nn.CrossEntropyLoss()\n",
    "lr = 0.001\n",
    "optimizer = torch.optim.Adam(fc_net.parameters(), lr=3e-4)\n",
    "\n",
    "n_epochs = 10\n",
    "loss_history = []\n",
    "\n",
    "for epoch in range(n_epochs):\n",
    "    epoch_loss = 0\n",
    "    for images, labels in trainloader: # batch for images\n",
    "        optimizer.zero_grad() # null grad\n",
    "        outputs = fc_net(images)\n",
    "        loss = loss_function(outputs, labels) # loss\n",
    "        loss.backward() # grad\n",
    "        optimizer.step()\n",
    "\n",
    "        epoch_loss += loss.item()\n",
    "    loss_history.append(epoch_loss/len(trainloader))\n",
    "    print(f\"Epoch {epoch+1}, epoch_loss = {loss_history[epoch]:.3f}\")\n",
    "print(f'Accuracy на тестовой выборке = {get_accuracy(fc_net, testloader)}')"
   ]
  },
  {
   "cell_type": "code",
   "execution_count": null,
   "metadata": {
    "colab": {
     "base_uri": "https://localhost:8080/"
    },
    "id": "2jh8iN2JMrls",
    "outputId": "883d951b-2f8e-4694-adc2-5722be3e83cc"
   },
   "outputs": [
    {
     "name": "stdout",
     "output_type": "stream",
     "text": [
      "Activation function is gelu\n",
      "Epoch 1, epoch_loss = 0.654\n",
      "Epoch 2, epoch_loss = 0.285\n",
      "Epoch 3, epoch_loss = 0.205\n",
      "Epoch 4, epoch_loss = 0.155\n",
      "Epoch 5, epoch_loss = 0.121\n",
      "Epoch 6, epoch_loss = 0.096\n",
      "Epoch 7, epoch_loss = 0.076\n",
      "Epoch 8, epoch_loss = 0.060\n",
      "Epoch 9, epoch_loss = 0.048\n",
      "Epoch 10, epoch_loss = 0.037\n",
      "Accuracy на тестовой выборке = 0.9043\n",
      "CPU times: user 35.4 s, sys: 2.92 s, total: 38.3 s\n",
      "Wall time: 2min 33s\n"
     ]
    }
   ],
   "source": [
    "%%time\n",
    "function = nn.functional.gelu\n",
    "print(f'Activation function is {function.__name__}')\n",
    "\n",
    "fc_net = FCNet_activation(function)\n",
    "loss_function = nn.CrossEntropyLoss()\n",
    "lr = 0.001\n",
    "optimizer = torch.optim.Adam(fc_net.parameters(), lr=3e-4)\n",
    "\n",
    "n_epochs = 10\n",
    "loss_history = []\n",
    "\n",
    "for epoch in range(n_epochs):\n",
    "    epoch_loss = 0\n",
    "    for images, labels in trainloader: # batch for images\n",
    "        optimizer.zero_grad() # null grad\n",
    "        outputs = fc_net(images)\n",
    "        loss = loss_function(outputs, labels) # loss\n",
    "        loss.backward() # grad\n",
    "        optimizer.step()\n",
    "\n",
    "        epoch_loss += loss.item()\n",
    "    loss_history.append(epoch_loss/len(trainloader))\n",
    "    print(f\"Epoch {epoch+1}, epoch_loss = {loss_history[epoch]:.3f}\")\n",
    "print(f'Accuracy на тестовой выборке = {get_accuracy(fc_net, testloader)}')"
   ]
  },
  {
   "cell_type": "code",
   "execution_count": null,
   "metadata": {
    "colab": {
     "base_uri": "https://localhost:8080/"
    },
    "id": "vyxOFLx6MrvV",
    "outputId": "2f84d700-9079-4b04-b06e-d7f07806b858"
   },
   "outputs": [
    {
     "name": "stdout",
     "output_type": "stream",
     "text": [
      "Activation function is tanh\n",
      "Epoch 1, epoch_loss = 0.783\n",
      "Epoch 2, epoch_loss = 0.385\n",
      "Epoch 3, epoch_loss = 0.260\n",
      "Epoch 4, epoch_loss = 0.186\n",
      "Epoch 5, epoch_loss = 0.137\n",
      "Epoch 6, epoch_loss = 0.103\n",
      "Epoch 7, epoch_loss = 0.077\n",
      "Epoch 8, epoch_loss = 0.057\n",
      "Epoch 9, epoch_loss = 0.042\n",
      "Epoch 10, epoch_loss = 0.030\n",
      "Accuracy на тестовой выборке = 0.8983\n",
      "CPU times: user 34.3 s, sys: 2.91 s, total: 37.2 s\n",
      "Wall time: 2min 32s\n"
     ]
    }
   ],
   "source": [
    "%%time\n",
    "function = nn.functional.tanh\n",
    "print(f'Activation function is {function.__name__}')\n",
    "\n",
    "fc_net = FCNet_activation(function)\n",
    "loss_function = nn.CrossEntropyLoss()\n",
    "lr = 0.001\n",
    "optimizer = torch.optim.Adam(fc_net.parameters(), lr=3e-4)\n",
    "\n",
    "n_epochs = 10\n",
    "loss_history = []\n",
    "\n",
    "for epoch in range(n_epochs):\n",
    "    epoch_loss = 0\n",
    "    for images, labels in trainloader: # batch for images\n",
    "        optimizer.zero_grad() # null grad\n",
    "        outputs = fc_net(images)\n",
    "        loss = loss_function(outputs, labels) # loss\n",
    "        loss.backward() # grad\n",
    "        optimizer.step()\n",
    "\n",
    "        epoch_loss += loss.item()\n",
    "    loss_history.append(epoch_loss/len(trainloader))\n",
    "    print(f\"Epoch {epoch+1}, epoch_loss = {loss_history[epoch]:.3f}\")\n",
    "print(f'Accuracy на тестовой выборке = {get_accuracy(fc_net, testloader)}')"
   ]
  },
  {
   "cell_type": "markdown",
   "metadata": {
    "id": "aG2Oyxy2egVV"
   },
   "source": [
    "С использованием какой функции активации удалось досчить наибольшей `accuracy`?\n",
    "\n",
    "Наибольший аккураси с функцией gelu (0.904), по скорости обучения лучше всего tanh (2min 31s)."
   ]
  },
  {
   "cell_type": "markdown",
   "metadata": {
    "id": "20Ls3Bfsifqd"
   },
   "source": [
    "### Задание 6. Другие оптимизаторы\n",
    "\n",
    "**4** балла\n",
    "\n",
    "Исследуйте влияние оптимизаторов на скорость обучения и точность предсказаний модели.\n",
    "\n",
    "Попробуйте следующие:\n",
    "\n",
    "* [Adam](https://pytorch.org/docs/stable/generated/torch.optim.Adam.html#torch.optim.Adam)\n",
    "* [RMSprop](https://pytorch.org/docs/stable/generated/torch.optim.RMSprop.html#torch.optim.RMSprop)\n",
    "* [Adagrad](https://pytorch.org/docs/stable/generated/torch.optim.Adagrad.html#torch.optim.Adagrad)\n",
    "\n",
    "Вам нужно снова обучить 3 модели и сравнить их перформанс (функцию активации используйте ту, которая показала себя лучше всего)."
   ]
  },
  {
   "cell_type": "code",
   "execution_count": null,
   "metadata": {
    "id": "rzL2LdA-ifJh"
   },
   "outputs": [],
   "source": [
    "from torch.optim import Adam, RMSprop, Adagrad"
   ]
  },
  {
   "cell_type": "code",
   "execution_count": null,
   "metadata": {
    "colab": {
     "base_uri": "https://localhost:8080/"
    },
    "id": "6wwPTbVvLp07",
    "outputId": "52c3d8db-dd21-469b-9f46-b1459b3fa805"
   },
   "outputs": [
    {
     "name": "stdout",
     "output_type": "stream",
     "text": [
      "Optimizator Adam\n",
      "Epoch 1, epoch_loss = 0.652\n",
      "Epoch 2, epoch_loss = 0.278\n",
      "Epoch 3, epoch_loss = 0.202\n",
      "Epoch 4, epoch_loss = 0.153\n",
      "Epoch 5, epoch_loss = 0.121\n",
      "Epoch 6, epoch_loss = 0.095\n",
      "Epoch 7, epoch_loss = 0.077\n",
      "Epoch 8, epoch_loss = 0.060\n",
      "Epoch 9, epoch_loss = 0.049\n",
      "Epoch 10, epoch_loss = 0.038\n",
      "Accuracy на тестовой выборке = 0.9019\n",
      "CPU times: user 36 s, sys: 3.02 s, total: 39 s\n",
      "Wall time: 2min 56s\n"
     ]
    }
   ],
   "source": [
    "%%time\n",
    "print('Optimizator Adam')\n",
    "fc_net = FCNet_activation(nn.functional.gelu)\n",
    "loss_function = nn.CrossEntropyLoss()\n",
    "lr = 0.001\n",
    "optimizer = Adam(fc_net.parameters(), lr=3e-4)\n",
    "\n",
    "n_epochs = 10\n",
    "loss_history = []\n",
    "\n",
    "for epoch in range(n_epochs):\n",
    "    epoch_loss = 0\n",
    "    for images, labels in trainloader: # batch for images\n",
    "        optimizer.zero_grad() # null grad\n",
    "        outputs = fc_net(images)\n",
    "        loss = loss_function(outputs, labels) # loss\n",
    "        loss.backward() # grad\n",
    "        optimizer.step()\n",
    "\n",
    "        epoch_loss += loss.item()\n",
    "    loss_history.append(epoch_loss/len(trainloader))\n",
    "    print(f\"Epoch {epoch+1}, epoch_loss = {loss_history[epoch]:.3f}\")\n",
    "print(f'Accuracy на тестовой выборке = {get_accuracy(fc_net, testloader)}')"
   ]
  },
  {
   "cell_type": "code",
   "execution_count": null,
   "metadata": {
    "colab": {
     "base_uri": "https://localhost:8080/"
    },
    "id": "pCj_yIPPLpxY",
    "outputId": "f741401d-e28e-452f-b017-f0be1b976e49"
   },
   "outputs": [
    {
     "name": "stdout",
     "output_type": "stream",
     "text": [
      "Optimizator RMSprop\n",
      "Epoch 1, epoch_loss = 0.439\n",
      "Epoch 2, epoch_loss = 0.235\n",
      "Epoch 3, epoch_loss = 0.171\n",
      "Epoch 4, epoch_loss = 0.131\n",
      "Epoch 5, epoch_loss = 0.102\n",
      "Epoch 6, epoch_loss = 0.080\n",
      "Epoch 7, epoch_loss = 0.063\n",
      "Epoch 8, epoch_loss = 0.049\n",
      "Epoch 9, epoch_loss = 0.039\n",
      "Epoch 10, epoch_loss = 0.030\n",
      "Accuracy на тестовой выборке = 0.8789\n",
      "CPU times: user 33.2 s, sys: 2.91 s, total: 36.1 s\n",
      "Wall time: 2min 33s\n"
     ]
    }
   ],
   "source": [
    "%%time\n",
    "print('Optimizator RMSprop')\n",
    "fc_net = FCNet_activation(nn.functional.gelu)\n",
    "loss_function = nn.CrossEntropyLoss()\n",
    "lr = 0.001\n",
    "optimizer = RMSprop(fc_net.parameters(), lr=3e-4)\n",
    "\n",
    "n_epochs = 10\n",
    "loss_history = []\n",
    "\n",
    "for epoch in range(n_epochs):\n",
    "    epoch_loss = 0\n",
    "    for images, labels in trainloader: # batch for images\n",
    "        optimizer.zero_grad() # null grad\n",
    "        outputs = fc_net(images)\n",
    "        loss = loss_function(outputs, labels) # loss\n",
    "        loss.backward() # grad\n",
    "        optimizer.step()\n",
    "\n",
    "        epoch_loss += loss.item()\n",
    "    loss_history.append(epoch_loss/len(trainloader))\n",
    "    print(f\"Epoch {epoch+1}, epoch_loss = {loss_history[epoch]:.3f}\")\n",
    "print(f'Accuracy на тестовой выборке = {get_accuracy(fc_net, testloader)}')"
   ]
  },
  {
   "cell_type": "code",
   "execution_count": null,
   "metadata": {
    "colab": {
     "base_uri": "https://localhost:8080/"
    },
    "id": "u5AQWC8NLpvN",
    "outputId": "9942444a-6894-4909-b488-1b64ee744123"
   },
   "outputs": [
    {
     "name": "stdout",
     "output_type": "stream",
     "text": [
      "Optimizator Adagrad\n",
      "Epoch 1, epoch_loss = 1.316\n",
      "Epoch 2, epoch_loss = 0.792\n",
      "Epoch 3, epoch_loss = 0.672\n",
      "Epoch 4, epoch_loss = 0.613\n",
      "Epoch 5, epoch_loss = 0.575\n",
      "Epoch 6, epoch_loss = 0.548\n",
      "Epoch 7, epoch_loss = 0.527\n",
      "Epoch 8, epoch_loss = 0.510\n",
      "Epoch 9, epoch_loss = 0.495\n",
      "Epoch 10, epoch_loss = 0.483\n",
      "Accuracy на тестовой выборке = 0.7268\n",
      "CPU times: user 32.3 s, sys: 2.89 s, total: 35.2 s\n",
      "Wall time: 2min 36s\n"
     ]
    }
   ],
   "source": [
    "%%time\n",
    "print('Optimizator Adagrad')\n",
    "fc_net = FCNet_activation(nn.functional.gelu)\n",
    "loss_function = nn.CrossEntropyLoss()\n",
    "lr = 0.001\n",
    "optimizer = Adagrad(fc_net.parameters(), lr=3e-4)\n",
    "\n",
    "n_epochs = 10\n",
    "loss_history = []\n",
    "\n",
    "for epoch in range(n_epochs):\n",
    "    epoch_loss = 0\n",
    "    for images, labels in trainloader: # batch for images\n",
    "        optimizer.zero_grad() # null grad\n",
    "        outputs = fc_net(images)\n",
    "        loss = loss_function(outputs, labels) # loss\n",
    "        loss.backward() # grad\n",
    "        optimizer.step()\n",
    "\n",
    "        epoch_loss += loss.item()\n",
    "    loss_history.append(epoch_loss/len(trainloader))\n",
    "    print(f\"Epoch {epoch+1}, epoch_loss = {loss_history[epoch]:.3f}\")\n",
    "print(f'Accuracy на тестовой выборке = {get_accuracy(fc_net, testloader)}')"
   ]
  },
  {
   "cell_type": "markdown",
   "metadata": {
    "id": "bir8EmVsSD53"
   },
   "source": [
    "\n",
    "\n",
    "Быстрее отработал оптимизатор gelu (2min 33s), а самый высокий аккураси дал оптимизатор Adam (accuracy = 0.902).\n"
   ]
  },
  {
   "cell_type": "markdown",
   "metadata": {
    "id": "eHA48PsperxS"
   },
   "source": [
    "### Задание 7. Реализация ReLU\n",
    "\n",
    "**4** балла\n",
    "\n",
    "Самостоятельно реализуйте функцию активации ReLU.\n",
    "Замените в уже обученной модели функцию активации на вашу. Убедитесь что ничего не изменилась."
   ]
  },
  {
   "cell_type": "code",
   "execution_count": null,
   "metadata": {
    "id": "63uTkUp-a2xr"
   },
   "outputs": [],
   "source": [
    "class CustomReLU(nn.Module):\n",
    "    def __init__(self):\n",
    "        super().__init__()\n",
    "\n",
    "    def forward(self, x):\n",
    "        # YOUR CODE HERE\n",
    "        # если элемент x < 0, то 0, если >= 0, то x\n",
    "\n",
    "        x = torch.maximum(torch.zeros_like(x), x)\n",
    "        return x"
   ]
  },
  {
   "cell_type": "markdown",
   "metadata": {
    "id": "xsKzxa33fhbN"
   },
   "source": [
    "Заново обучите модель и проверьте правильность реализации `CustomReLU`."
   ]
  },
  {
   "cell_type": "markdown",
   "metadata": {
    "id": "3T4CJYa_ZZ42"
   },
   "source": [
    "Заменим на кастомную функцию"
   ]
  },
  {
   "cell_type": "code",
   "execution_count": null,
   "metadata": {
    "colab": {
     "base_uri": "https://localhost:8080/"
    },
    "id": "ePP55RBeecYh",
    "outputId": "ee320c88-844e-458c-be19-e5067e7d5f3d"
   },
   "outputs": [
    {
     "name": "stdout",
     "output_type": "stream",
     "text": [
      "Epoch 1, epoch_loss = 0.684\n",
      "Epoch 2, epoch_loss = 0.300\n",
      "Epoch 3, epoch_loss = 0.217\n",
      "Epoch 4, epoch_loss = 0.168\n",
      "Epoch 5, epoch_loss = 0.134\n",
      "Epoch 6, epoch_loss = 0.110\n",
      "Epoch 7, epoch_loss = 0.090\n",
      "Epoch 8, epoch_loss = 0.073\n",
      "Epoch 9, epoch_loss = 0.060\n",
      "Epoch 10, epoch_loss = 0.049\n",
      "Accuracy на тестовой выборке = 0.9002\n"
     ]
    }
   ],
   "source": [
    "fc_net = FCNet_activation(CustomReLU())\n",
    "loss_function = nn.CrossEntropyLoss()\n",
    "lr = 0.001\n",
    "optimizer = torch.optim.Adam(fc_net.parameters(), lr=3e-4)\n",
    "n_epochs = 10\n",
    "loss_history = []\n",
    "\n",
    "for epoch in range(n_epochs):\n",
    "    epoch_loss = 0\n",
    "    for images, labels in trainloader: # batch for images\n",
    "        optimizer.zero_grad() # null grad\n",
    "        outputs = fc_net(images)\n",
    "        loss = loss_function(outputs, labels) # loss\n",
    "        loss.backward() # grad\n",
    "        optimizer.step()\n",
    "\n",
    "        epoch_loss += loss.item()\n",
    "    loss_history.append(epoch_loss/len(trainloader))\n",
    "    print(f\"Epoch {epoch+1}, epoch_loss = {loss_history[epoch]:.3f}\")\n",
    "print(f'Accuracy на тестовой выборке = {get_accuracy(fc_net, testloader)}')"
   ]
  },
  {
   "cell_type": "code",
   "execution_count": null,
   "metadata": {
    "id": "OmjlpYnkZeVm"
   },
   "outputs": [],
   "source": [
    "custom_predict = []\n",
    "for i in range(10000):\n",
    "    img, label = testset[i]\n",
    "    custom_predict.append(torch.argmax(fc_net(img)))"
   ]
  },
  {
   "cell_type": "markdown",
   "metadata": {
    "id": "UISJ8w7fZemN"
   },
   "source": [
    "Теперь делаем нормальный relu"
   ]
  },
  {
   "cell_type": "code",
   "execution_count": null,
   "metadata": {
    "colab": {
     "base_uri": "https://localhost:8080/"
    },
    "id": "huIb4_kYZeaS",
    "outputId": "e9d32a45-8dea-4f89-f79c-926d532fa341"
   },
   "outputs": [
    {
     "name": "stdout",
     "output_type": "stream",
     "text": [
      "Epoch 1, epoch_loss = 0.682\n",
      "Epoch 2, epoch_loss = 0.300\n",
      "Epoch 3, epoch_loss = 0.220\n",
      "Epoch 4, epoch_loss = 0.172\n",
      "Epoch 5, epoch_loss = 0.139\n",
      "Epoch 6, epoch_loss = 0.114\n",
      "Epoch 7, epoch_loss = 0.093\n",
      "Epoch 8, epoch_loss = 0.076\n",
      "Epoch 9, epoch_loss = 0.062\n",
      "Epoch 10, epoch_loss = 0.051\n",
      "Accuracy на тестовой выборке = 0.8986\n"
     ]
    }
   ],
   "source": [
    "fc_net = FCNet_activation(nn.functional.relu)\n",
    "loss_function = nn.CrossEntropyLoss()\n",
    "lr = 0.001\n",
    "optimizer = torch.optim.Adam(fc_net.parameters(), lr=3e-4)\n",
    "n_epochs = 10\n",
    "loss_history = []\n",
    "\n",
    "for epoch in range(n_epochs):\n",
    "    epoch_loss = 0\n",
    "    for images, labels in trainloader: # batch for images\n",
    "        optimizer.zero_grad() # null grad\n",
    "        outputs = fc_net(images)\n",
    "        loss = loss_function(outputs, labels) # loss\n",
    "        loss.backward() # grad\n",
    "        optimizer.step()\n",
    "\n",
    "        epoch_loss += loss.item()\n",
    "    loss_history.append(epoch_loss/len(trainloader))\n",
    "    print(f\"Epoch {epoch+1}, epoch_loss = {loss_history[epoch]:.3f}\")\n",
    "print(f'Accuracy на тестовой выборке = {get_accuracy(fc_net, testloader)}')"
   ]
  },
  {
   "cell_type": "code",
   "execution_count": null,
   "metadata": {
    "id": "uOHC2aMTZev-"
   },
   "outputs": [],
   "source": [
    "relu_predict = []\n",
    "for i in range(10000):\n",
    "    img, label = testset[i]\n",
    "    relu_predict.append(torch.argmax(fc_net(img)))"
   ]
  },
  {
   "cell_type": "markdown",
   "metadata": {
    "id": "O8xuZDvxa-Hz"
   },
   "source": [
    "Теперь проверяем"
   ]
  },
  {
   "cell_type": "code",
   "execution_count": null,
   "metadata": {
    "colab": {
     "base_uri": "https://localhost:8080/"
    },
    "id": "edFULWTWZe0r",
    "outputId": "8f40f52c-acab-4ea6-805f-17157c30cb1e"
   },
   "outputs": [
    {
     "name": "stdout",
     "output_type": "stream",
     "text": [
      "Miss matches between relu and custom relu: 639 out of 10000\n",
      "Miss matches to number of elements: 0.0639\n"
     ]
    }
   ],
   "source": [
    "miss_match = 0\n",
    "for i, j in zip(relu_predict, custom_predict):\n",
    "    if i != j:\n",
    "        miss_match+=1\n",
    "print(f'Miss matches between relu and custom relu: {miss_match} out of 10000')\n",
    "print(f'Miss matches to number of elements: {miss_match/len(relu_predict)}')"
   ]
  },
  {
   "cell_type": "markdown",
   "metadata": {
    "id": "vWBG1mMwgN17"
   },
   "source": [
    "### Задание 8. Генерация картинок\n",
    "\n",
    "**3** балла\n",
    "\n",
    "Придумайте 3 предложения и сгенерируйте при помощи них 3 картинки, используя телеграм бота [ruDALLE](https://t.me/sber_rudalle_xl_bot). Прикрепите сюда ваши картины."
   ]
  },
  {
   "cell_type": "markdown",
   "metadata": {
    "id": "3Cs5ZXRN5d1r"
   },
   "source": [
    "Кот сидит на подоконнике и смотрит на красивый закат за окном\n",
    "\n",
    "![1](../data/1.jpg)"
   ]
  },
  {
   "cell_type": "markdown",
   "metadata": {
    "id": "bwDnNSbL6pwC"
   },
   "source": [
    "Грустный студент делает домашнее задание\n",
    "\n",
    "\n",
    "![2](../data/2.jpg)"
   ]
  },
  {
   "cell_type": "markdown",
   "metadata": {
    "id": "nC4pBh9G7IXU"
   },
   "source": [
    "Ярко-красный закат на море\n",
    "\n",
    "![3](../data/3.jpg)"
   ]
  },
  {
   "cell_type": "code",
   "execution_count": null,
   "metadata": {},
   "outputs": [],
   "source": []
  }
 ],
 "metadata": {
  "colab": {
   "provenance": []
  },
  "kernelspec": {
   "display_name": "Python 3 (ipykernel)",
   "language": "python",
   "name": "python3"
  },
  "language_info": {
   "codemirror_mode": {
    "name": "ipython",
    "version": 3
   },
   "file_extension": ".py",
   "mimetype": "text/x-python",
   "name": "python",
   "nbconvert_exporter": "python",
   "pygments_lexer": "ipython3",
   "version": "3.10.7"
  }
 },
 "nbformat": 4,
 "nbformat_minor": 1
}
